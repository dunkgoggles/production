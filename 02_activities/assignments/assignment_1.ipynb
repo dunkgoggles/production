{
 "cells": [
  {
   "cell_type": "markdown",
   "metadata": {},
   "source": [
    "# Working with parquet files\n",
    "\n",
    "## Objective\n",
    "\n",
    "+ In this assignment, we will use the data downloaded with the module `data_manager` to create features.\n",
    "\n",
    "(11 pts total)\n",
    "\n",
    "## Prerequisites\n",
    "\n",
    "+ This notebook assumes that price data is available to you in the environment variable `PRICE_DATA`. If you have not done so, then execute the notebook `01_materials/labs/2_data_engineering.ipynb` to create this data set.\n"
   ]
  },
  {
   "cell_type": "markdown",
   "metadata": {},
   "source": [
    "+ Load the environment variables using dotenv. (1 pt)"
   ]
  },
  {
   "cell_type": "code",
   "execution_count": 66,
   "metadata": {},
   "outputs": [
    {
     "name": "stdout",
     "output_type": "stream",
     "text": [
      "PRICE_DATA: ../../05_src/data/prices/\n"
     ]
    }
   ],
   "source": [
    "# Load environment variables\n",
    "from dotenv import load_dotenv\n",
    "import os\n",
    "from glob import glob\n",
    "\n",
    "load_dotenv()\n",
    "\n",
    "# Load the environment variable\n",
    "price_data_path = os.getenv(\"PRICE_DATA\")\n",
    "\n",
    "# Check if it loaded correctly\n",
    "print(\"PRICE_DATA:\", price_data_path)\n",
    "\n",
    "\n",
    "\n"
   ]
  },
  {
   "cell_type": "code",
   "execution_count": 67,
   "metadata": {},
   "outputs": [],
   "source": [
    "import dask.dataframe as dd"
   ]
  },
  {
   "cell_type": "markdown",
   "metadata": {},
   "source": [
    "+ Load the environment variable `PRICE_DATA`.\n",
    "+ Use [glob](https://docs.python.org/3/library/glob.html) to find the path of all parquet files in the directory `PRICE_DATA`.\n",
    "\n",
    "(1pt)"
   ]
  },
  {
   "cell_type": "code",
   "execution_count": 68,
   "metadata": {},
   "outputs": [
    {
     "name": "stdout",
     "output_type": "stream",
     "text": [
      "Found 3158 parquet files\n",
      "Sample paths: ['../../05_src/data/prices\\\\ACN\\\\ACN_2001\\\\part.0.parquet', '../../05_src/data/prices\\\\ACN\\\\ACN_2001\\\\part.1.parquet', '../../05_src/data/prices\\\\ACN\\\\ACN_2002\\\\part.0.parquet', '../../05_src/data/prices\\\\ACN\\\\ACN_2002\\\\part.1.parquet', '../../05_src/data/prices\\\\ACN\\\\ACN_2003\\\\part.0.parquet']\n"
     ]
    }
   ],
   "source": [
    "parquet_files = glob(os.path.join(price_data_path, \"*\", \"*\", \"part.*.parquet\"))\n",
    "\n",
    "print(f\"Found {len(parquet_files)} parquet files\")\n",
    "print(\"Sample paths:\", parquet_files[:5])\n",
    "\n"
   ]
  },
  {
   "cell_type": "markdown",
   "metadata": {},
   "source": [
    "For each ticker and using Dask, do the following:\n",
    "\n",
    "+ Add lags for variables Close and Adj_Close.\n",
    "+ Add returns based on Close:\n",
    "    \n",
    "    - `returns`: (Close / Close_lag_1) - 1\n",
    "\n",
    "+ Add the following range: \n",
    "\n",
    "    - `hi_lo_range`: this is the day's High minus Low.\n",
    "\n",
    "+ Assign the result to `dd_feat`.\n",
    "\n",
    "(4 pt)"
   ]
  },
  {
   "cell_type": "code",
   "execution_count": 69,
   "metadata": {},
   "outputs": [
    {
     "name": "stderr",
     "output_type": "stream",
     "text": [
      "C:\\Users\\scott\\AppData\\Local\\Temp\\ipykernel_14872\\2654294188.py:2: UserWarning: `meta` is not specified, inferred from partial data. Please provide `meta` if the result is unexpected.\n",
      "  Before: .apply(func)\n",
      "  After:  .apply(func, meta={'x': 'f8', 'y': 'f8'}) for dataframe result\n",
      "  or:     .apply(func, meta=('x', 'f8'))            for series result\n",
      "  ddf[\"Close_lag_1\"] = ddf.groupby(\"ticker\")[\"Close\"].shift(1)\n",
      "C:\\Users\\scott\\AppData\\Local\\Temp\\ipykernel_14872\\2654294188.py:3: UserWarning: `meta` is not specified, inferred from partial data. Please provide `meta` if the result is unexpected.\n",
      "  Before: .apply(func)\n",
      "  After:  .apply(func, meta={'x': 'f8', 'y': 'f8'}) for dataframe result\n",
      "  or:     .apply(func, meta=('x', 'f8'))            for series result\n",
      "  ddf[\"Adj_Close_lag_1\"] = ddf.groupby(\"ticker\")[\"Adj Close\"].shift(1)\n"
     ]
    }
   ],
   "source": [
    "# Add lag features\n",
    "ddf[\"Close_lag_1\"] = ddf.groupby(\"ticker\")[\"Close\"].shift(1)\n",
    "ddf[\"Adj_Close_lag_1\"] = ddf.groupby(\"ticker\")[\"Adj Close\"].shift(1)\n",
    "\n",
    "# Add return feature\n",
    "ddf[\"returns\"] = (ddf[\"Close\"] / ddf[\"Close_lag_1\"]) - 1\n",
    "\n",
    "# Add high-low range feature\n",
    "ddf[\"hi_lo_range\"] = ddf[\"High\"] - ddf[\"Low\"]\n",
    "\n",
    "# Assign the result\n",
    "dd_feat = ddf\n"
   ]
  },
  {
   "cell_type": "markdown",
   "metadata": {},
   "source": [
    "+ Convert the Dask data frame to a pandas data frame. \n",
    "+ Add a new feature containing the moving average of `returns` using a window of 10 days. There are several ways to solve this task, a simple one uses `.rolling(10).mean()`.\n",
    "\n",
    "(3 pt)"
   ]
  },
  {
   "cell_type": "code",
   "execution_count": 88,
   "metadata": {},
   "outputs": [
    {
     "name": "stderr",
     "output_type": "stream",
     "text": [
      "C:\\Users\\scott\\AppData\\Local\\Temp\\ipykernel_14872\\182602804.py:8: UserWarning: `meta` is not specified, inferred from partial data. Please provide `meta` if the result is unexpected.\n",
      "  Before: .apply(func)\n",
      "  After:  .apply(func, meta={'x': 'f8', 'y': 'f8'}) for dataframe result\n",
      "  or:     .apply(func, meta=('x', 'f8'))            for series result\n",
      "  ddf[\"Close_lag_1\"] = ddf.groupby(\"ticker\")[\"Close\"].shift(1)\n",
      "C:\\Users\\scott\\AppData\\Local\\Temp\\ipykernel_14872\\182602804.py:9: UserWarning: `meta` is not specified, inferred from partial data. Please provide `meta` if the result is unexpected.\n",
      "  Before: .apply(func)\n",
      "  After:  .apply(func, meta={'x': 'f8', 'y': 'f8'}) for dataframe result\n",
      "  or:     .apply(func, meta=('x', 'f8'))            for series result\n",
      "  ddf[\"Adj_Close_lag_1\"] = ddf.groupby(\"ticker\")[\"Adj Close\"].shift(1)\n"
     ]
    },
    {
     "data": {
      "text/html": [
       "<div>\n",
       "<style scoped>\n",
       "    .dataframe tbody tr th:only-of-type {\n",
       "        vertical-align: middle;\n",
       "    }\n",
       "\n",
       "    .dataframe tbody tr th {\n",
       "        vertical-align: top;\n",
       "    }\n",
       "\n",
       "    .dataframe thead th {\n",
       "        text-align: right;\n",
       "    }\n",
       "</style>\n",
       "<table border=\"1\" class=\"dataframe\">\n",
       "  <thead>\n",
       "    <tr style=\"text-align: right;\">\n",
       "      <th></th>\n",
       "      <th>Date</th>\n",
       "      <th>Open</th>\n",
       "      <th>High</th>\n",
       "      <th>Low</th>\n",
       "      <th>Close</th>\n",
       "      <th>Adj Close</th>\n",
       "      <th>Volume</th>\n",
       "      <th>source</th>\n",
       "      <th>ticker</th>\n",
       "      <th>Year</th>\n",
       "      <th>Close_lag_1</th>\n",
       "      <th>Adj_Close_lag_1</th>\n",
       "      <th>returns</th>\n",
       "      <th>hi_lo_range</th>\n",
       "      <th>returns_ma_10</th>\n",
       "    </tr>\n",
       "  </thead>\n",
       "  <tbody>\n",
       "    <tr>\n",
       "      <th>137371</th>\n",
       "      <td>2001-10-12</td>\n",
       "      <td>15.26</td>\n",
       "      <td>16.549999</td>\n",
       "      <td>15.260000</td>\n",
       "      <td>16.549999</td>\n",
       "      <td>12.441836</td>\n",
       "      <td>5193300.0</td>\n",
       "      <td>ACN.csv</td>\n",
       "      <td>ACN</td>\n",
       "      <td>2001</td>\n",
       "      <td>15.160000</td>\n",
       "      <td>11.396875</td>\n",
       "      <td>0.091689</td>\n",
       "      <td>1.289999</td>\n",
       "      <td>NaN</td>\n",
       "    </tr>\n",
       "    <tr>\n",
       "      <th>137374</th>\n",
       "      <td>2001-10-17</td>\n",
       "      <td>17.65</td>\n",
       "      <td>17.740000</td>\n",
       "      <td>16.850000</td>\n",
       "      <td>16.980000</td>\n",
       "      <td>12.765102</td>\n",
       "      <td>1877100.0</td>\n",
       "      <td>ACN.csv</td>\n",
       "      <td>ACN</td>\n",
       "      <td>2001</td>\n",
       "      <td>17.450001</td>\n",
       "      <td>13.118434</td>\n",
       "      <td>-0.026934</td>\n",
       "      <td>0.889999</td>\n",
       "      <td>NaN</td>\n",
       "    </tr>\n",
       "    <tr>\n",
       "      <th>137377</th>\n",
       "      <td>2001-10-22</td>\n",
       "      <td>17.00</td>\n",
       "      <td>17.570000</td>\n",
       "      <td>16.969999</td>\n",
       "      <td>17.500000</td>\n",
       "      <td>13.156021</td>\n",
       "      <td>469600.0</td>\n",
       "      <td>ACN.csv</td>\n",
       "      <td>ACN</td>\n",
       "      <td>2001</td>\n",
       "      <td>16.850000</td>\n",
       "      <td>12.667368</td>\n",
       "      <td>0.038576</td>\n",
       "      <td>0.600000</td>\n",
       "      <td>NaN</td>\n",
       "    </tr>\n",
       "    <tr>\n",
       "      <th>137379</th>\n",
       "      <td>2001-10-24</td>\n",
       "      <td>17.68</td>\n",
       "      <td>17.760000</td>\n",
       "      <td>17.570000</td>\n",
       "      <td>17.740000</td>\n",
       "      <td>13.336446</td>\n",
       "      <td>472600.0</td>\n",
       "      <td>ACN.csv</td>\n",
       "      <td>ACN</td>\n",
       "      <td>2001</td>\n",
       "      <td>17.620001</td>\n",
       "      <td>13.246236</td>\n",
       "      <td>0.006810</td>\n",
       "      <td>0.190001</td>\n",
       "      <td>NaN</td>\n",
       "    </tr>\n",
       "    <tr>\n",
       "      <th>137380</th>\n",
       "      <td>2001-10-25</td>\n",
       "      <td>17.74</td>\n",
       "      <td>17.750000</td>\n",
       "      <td>17.129999</td>\n",
       "      <td>17.740000</td>\n",
       "      <td>13.336446</td>\n",
       "      <td>265100.0</td>\n",
       "      <td>ACN.csv</td>\n",
       "      <td>ACN</td>\n",
       "      <td>2001</td>\n",
       "      <td>17.740000</td>\n",
       "      <td>13.336446</td>\n",
       "      <td>0.000000</td>\n",
       "      <td>0.620001</td>\n",
       "      <td>NaN</td>\n",
       "    </tr>\n",
       "  </tbody>\n",
       "</table>\n",
       "</div>"
      ],
      "text/plain": [
       "             Date   Open       High        Low      Close  Adj Close  \\\n",
       "137371 2001-10-12  15.26  16.549999  15.260000  16.549999  12.441836   \n",
       "137374 2001-10-17  17.65  17.740000  16.850000  16.980000  12.765102   \n",
       "137377 2001-10-22  17.00  17.570000  16.969999  17.500000  13.156021   \n",
       "137379 2001-10-24  17.68  17.760000  17.570000  17.740000  13.336446   \n",
       "137380 2001-10-25  17.74  17.750000  17.129999  17.740000  13.336446   \n",
       "\n",
       "           Volume   source ticker  Year  Close_lag_1  Adj_Close_lag_1  \\\n",
       "137371  5193300.0  ACN.csv    ACN  2001    15.160000        11.396875   \n",
       "137374  1877100.0  ACN.csv    ACN  2001    17.450001        13.118434   \n",
       "137377   469600.0  ACN.csv    ACN  2001    16.850000        12.667368   \n",
       "137379   472600.0  ACN.csv    ACN  2001    17.620001        13.246236   \n",
       "137380   265100.0  ACN.csv    ACN  2001    17.740000        13.336446   \n",
       "\n",
       "         returns  hi_lo_range  returns_ma_10  \n",
       "137371  0.091689     1.289999            NaN  \n",
       "137374 -0.026934     0.889999            NaN  \n",
       "137377  0.038576     0.600000            NaN  \n",
       "137379  0.006810     0.190001            NaN  \n",
       "137380  0.000000     0.620001            NaN  "
      ]
     },
     "execution_count": 88,
     "metadata": {},
     "output_type": "execute_result"
    }
   ],
   "source": [
    "import dask.dataframe as dd\n",
    "import pandas as pd\n",
    "\n",
    "# Step 1: Load the sample into a Dask DataFrame\n",
    "ddf = dd.read_parquet(parquet_sample)\n",
    "\n",
    "# Step 2: Create new features\n",
    "ddf[\"Close_lag_1\"] = ddf.groupby(\"ticker\")[\"Close\"].shift(1)\n",
    "ddf[\"Adj_Close_lag_1\"] = ddf.groupby(\"ticker\")[\"Adj Close\"].shift(1)\n",
    "ddf[\"returns\"] = (ddf[\"Close\"] / ddf[\"Close_lag_1\"]) - 1\n",
    "ddf[\"hi_lo_range\"] = ddf[\"High\"] - ddf[\"Low\"]\n",
    "\n",
    "# Step 3: Convert Dask DataFrame to pandas\n",
    "df_feat = ddf.compute()\n",
    "\n",
    "# Step 4: Add 10-day moving average of returns\n",
    "df_feat[\"returns_ma_10\"] = df_feat.groupby(\"ticker\")[\"returns\"].transform(lambda x: x.rolling(10).mean())\n",
    "\n",
    "# Step 5: Preview the result\n",
    "df_feat.head()\n"
   ]
  },
  {
   "cell_type": "markdown",
   "metadata": {},
   "source": [
    "Please comment:\n",
    "\n",
    "+ Was it necessary to convert to pandas to calculate the moving average return?\n",
    "+ Would it have been better to do it in Dask? Why?\n",
    "\n",
    "(1 pt)"
   ]
  },
  {
   "cell_type": "markdown",
   "metadata": {},
   "source": [
    "Yes, it was necessary to convert to pandas because Dask does not yet support the .rolling() method in combination with groupby operations. While Dask is optimized for large datasets, pandas offers more flexible time series functionality like rolling windows. If Dask had full rolling support within groups, it would have been more efficient to stay in Dask to avoid loading everything into memory."
   ]
  },
  {
   "cell_type": "markdown",
   "metadata": {},
   "source": [
    "## Criteria\n",
    "\n",
    "The [rubric](./assignment_1_rubric_clean.xlsx) contains the criteria for grading."
   ]
  },
  {
   "cell_type": "markdown",
   "metadata": {},
   "source": [
    "## Submission Information\n",
    "\n",
    "🚨 **Please review our [Assignment Submission Guide](https://github.com/UofT-DSI/onboarding/blob/main/onboarding_documents/submissions.md)** 🚨 for detailed instructions on how to format, branch, and submit your work. Following these guidelines is crucial for your submissions to be evaluated correctly.\n",
    "\n",
    "### Submission Parameters:\n",
    "* Submission Due Date: `HH:MM AM/PM - DD/MM/YYYY`\n",
    "* The branch name for your repo should be: `assignment-1`\n",
    "* What to submit for this assignment:\n",
    "    * This Jupyter Notebook (assignment_1.ipynb) should be populated and should be the only change in your pull request.\n",
    "* What the pull request link should look like for this assignment: `https://github.com/<your_github_username>/production/pull/<pr_id>`\n",
    "    * Open a private window in your browser. Copy and paste the link to your pull request into the address bar. Make sure you can see your pull request properly. This helps the technical facilitator and learning support staff review your submission easily.\n",
    "\n",
    "Checklist:\n",
    "- [ ] Created a branch with the correct naming convention.\n",
    "- [ ] Ensured that the repository is public.\n",
    "- [ ] Reviewed the PR description guidelines and adhered to them.\n",
    "- [ ] Verify that the link is accessible in a private browser window.\n",
    "\n",
    "If you encounter any difficulties or have questions, please don't hesitate to reach out to our team via our Slack at `#cohort-3-help`. Our Technical Facilitators and Learning Support staff are here to help you navigate any challenges."
   ]
  }
 ],
 "metadata": {
  "kernelspec": {
   "display_name": "dsi_participant",
   "language": "python",
   "name": "python3"
  },
  "language_info": {
   "codemirror_mode": {
    "name": "ipython",
    "version": 3
   },
   "file_extension": ".py",
   "mimetype": "text/x-python",
   "name": "python",
   "nbconvert_exporter": "python",
   "pygments_lexer": "ipython3",
   "version": "3.9.15"
  }
 },
 "nbformat": 4,
 "nbformat_minor": 2
}
